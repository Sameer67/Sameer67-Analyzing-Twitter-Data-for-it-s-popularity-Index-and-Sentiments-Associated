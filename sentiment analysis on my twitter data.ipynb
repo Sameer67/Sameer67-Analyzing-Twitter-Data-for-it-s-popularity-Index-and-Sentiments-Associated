{
 "cells": [
  {
   "cell_type": "code",
   "execution_count": 1,
   "metadata": {},
   "outputs": [
    {
     "data": {
      "text/html": [
       "<div>\n",
       "<style scoped>\n",
       "    .dataframe tbody tr th:only-of-type {\n",
       "        vertical-align: middle;\n",
       "    }\n",
       "\n",
       "    .dataframe tbody tr th {\n",
       "        vertical-align: top;\n",
       "    }\n",
       "\n",
       "    .dataframe thead th {\n",
       "        text-align: right;\n",
       "    }\n",
       "</style>\n",
       "<table border=\"1\" class=\"dataframe\">\n",
       "  <thead>\n",
       "    <tr style=\"text-align: right;\">\n",
       "      <th></th>\n",
       "      <th>Unnamed: 0</th>\n",
       "      <th>timestamp</th>\n",
       "      <th>tweet_text</th>\n",
       "      <th>username</th>\n",
       "      <th>all_hashtags</th>\n",
       "      <th>retweet_count</th>\n",
       "      <th>favourites_count</th>\n",
       "    </tr>\n",
       "  </thead>\n",
       "  <tbody>\n",
       "    <tr>\n",
       "      <th>0</th>\n",
       "      <td>0</td>\n",
       "      <td>12/2/2019 12:32</td>\n",
       "      <td>Lionel Messi For Ballon d’Or Award 2019, will ...</td>\n",
       "      <td>thefirstindia</td>\n",
       "      <td>[u'LionelMessi', u'BallonDor2019', u'BallondOr']</td>\n",
       "      <td>2233</td>\n",
       "      <td>3000.0</td>\n",
       "    </tr>\n",
       "    <tr>\n",
       "      <th>1</th>\n",
       "      <td>2</td>\n",
       "      <td>12/2/2019 12:31</td>\n",
       "      <td>Luka Modric - last year's #BallonDor winner  W...</td>\n",
       "      <td>VBETnews</td>\n",
       "      <td>[u'BallonDor', u'BallonDor2019']</td>\n",
       "      <td>1504</td>\n",
       "      <td>1800.0</td>\n",
       "    </tr>\n",
       "    <tr>\n",
       "      <th>2</th>\n",
       "      <td>4</td>\n",
       "      <td>12/2/2019 12:30</td>\n",
       "      <td>That award has been sh!t for a while now. #Bal...</td>\n",
       "      <td>Oga_Pato</td>\n",
       "      <td>[u'BallonDor']</td>\n",
       "      <td>1803</td>\n",
       "      <td>2200.0</td>\n",
       "    </tr>\n",
       "    <tr>\n",
       "      <th>3</th>\n",
       "      <td>5</td>\n",
       "      <td>12/2/2019 12:30</td>\n",
       "      <td>If you don't give it to Messi I swear you guys...</td>\n",
       "      <td>ignatius_koech1</td>\n",
       "      <td>[u'BallonDor', u'BallonDor2019']</td>\n",
       "      <td>1752</td>\n",
       "      <td>4234.0</td>\n",
       "    </tr>\n",
       "    <tr>\n",
       "      <th>4</th>\n",
       "      <td>7</td>\n",
       "      <td>12/2/2019 12:29</td>\n",
       "      <td>@brfootball Where is Mohamed SALAH ?! #ballond...</td>\n",
       "      <td>A__L__I__</td>\n",
       "      <td>[u'ballondor', u'podium']</td>\n",
       "      <td>2184</td>\n",
       "      <td>4313.0</td>\n",
       "    </tr>\n",
       "  </tbody>\n",
       "</table>\n",
       "</div>"
      ],
      "text/plain": [
       "   Unnamed: 0        timestamp  \\\n",
       "0           0  12/2/2019 12:32   \n",
       "1           2  12/2/2019 12:31   \n",
       "2           4  12/2/2019 12:30   \n",
       "3           5  12/2/2019 12:30   \n",
       "4           7  12/2/2019 12:29   \n",
       "\n",
       "                                          tweet_text         username  \\\n",
       "0  Lionel Messi For Ballon d’Or Award 2019, will ...    thefirstindia   \n",
       "1  Luka Modric - last year's #BallonDor winner  W...         VBETnews   \n",
       "2  That award has been sh!t for a while now. #Bal...         Oga_Pato   \n",
       "3  If you don't give it to Messi I swear you guys...  ignatius_koech1   \n",
       "4  @brfootball Where is Mohamed SALAH ?! #ballond...        A__L__I__   \n",
       "\n",
       "                                       all_hashtags  retweet_count  \\\n",
       "0  [u'LionelMessi', u'BallonDor2019', u'BallondOr']           2233   \n",
       "1                  [u'BallonDor', u'BallonDor2019']           1504   \n",
       "2                                    [u'BallonDor']           1803   \n",
       "3                  [u'BallonDor', u'BallonDor2019']           1752   \n",
       "4                         [u'ballondor', u'podium']           2184   \n",
       "\n",
       "   favourites_count  \n",
       "0            3000.0  \n",
       "1            1800.0  \n",
       "2            2200.0  \n",
       "3            4234.0  \n",
       "4            4313.0  "
      ]
     },
     "execution_count": 1,
     "metadata": {},
     "output_type": "execute_result"
    }
   ],
   "source": [
    "import numpy as np\n",
    "import pandas as pd\n",
    "\n",
    "df = pd.read_csv('ballondor_before_filtered.csv')\n",
    "df.head()"
   ]
  },
  {
   "cell_type": "code",
   "execution_count": 4,
   "metadata": {},
   "outputs": [
    {
     "name": "stderr",
     "output_type": "stream",
     "text": [
      "[nltk_data] Error loading vader_lexicon: <urlopen error [WinError\n",
      "[nltk_data]     10060] A connection attempt failed because the\n",
      "[nltk_data]     connected party did not properly respond after a\n",
      "[nltk_data]     period of time, or established connection failed\n",
      "[nltk_data]     because connected host has failed to respond>\n"
     ]
    },
    {
     "data": {
      "text/plain": [
       "False"
      ]
     },
     "execution_count": 4,
     "metadata": {},
     "output_type": "execute_result"
    }
   ],
   "source": [
    "import nltk\n",
    "nltk.download('vader_lexicon')"
   ]
  },
  {
   "cell_type": "code",
   "execution_count": 3,
   "metadata": {},
   "outputs": [],
   "source": [
    "from nltk.sentiment.vader import SentimentIntensityAnalyzer\n",
    "\n",
    "sid = SentimentIntensityAnalyzer()"
   ]
  },
  {
   "cell_type": "code",
   "execution_count": 9,
   "metadata": {},
   "outputs": [
    {
     "data": {
      "text/plain": [
       "{'neg': 0.0, 'neu': 0.703, 'pos': 0.297, 'compound': 0.6686}"
      ]
     },
     "execution_count": 9,
     "metadata": {},
     "output_type": "execute_result"
    }
   ],
   "source": [
    "a = 'We need to respect greatness. I was close but there was just someone a little bit better '\n",
    "sid.polarity_scores(a)"
   ]
  },
  {
   "cell_type": "code",
   "execution_count": null,
   "metadata": {},
   "outputs": [],
   "source": []
  }
 ],
 "metadata": {
  "kernelspec": {
   "display_name": "Python 3",
   "language": "python",
   "name": "python3"
  },
  "language_info": {
   "codemirror_mode": {
    "name": "ipython",
    "version": 3
   },
   "file_extension": ".py",
   "mimetype": "text/x-python",
   "name": "python",
   "nbconvert_exporter": "python",
   "pygments_lexer": "ipython3",
   "version": "3.7.3"
  }
 },
 "nbformat": 4,
 "nbformat_minor": 2
}
