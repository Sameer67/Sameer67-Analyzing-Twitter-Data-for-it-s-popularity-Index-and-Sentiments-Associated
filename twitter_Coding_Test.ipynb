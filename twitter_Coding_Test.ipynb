{
 "cells": [
  {
   "cell_type": "code",
   "execution_count": 60,
   "metadata": {},
   "outputs": [],
   "source": [
    "import numpy as np\n",
    "import pandas as pd"
   ]
  },
  {
   "cell_type": "code",
   "execution_count": 61,
   "metadata": {},
   "outputs": [],
   "source": [
    "data = pd.read_csv('ronaldo.csv')"
   ]
  },
  {
   "cell_type": "code",
   "execution_count": 62,
   "metadata": {},
   "outputs": [
    {
     "data": {
      "text/html": [
       "<div>\n",
       "<style scoped>\n",
       "    .dataframe tbody tr th:only-of-type {\n",
       "        vertical-align: middle;\n",
       "    }\n",
       "\n",
       "    .dataframe tbody tr th {\n",
       "        vertical-align: top;\n",
       "    }\n",
       "\n",
       "    .dataframe thead th {\n",
       "        text-align: right;\n",
       "    }\n",
       "</style>\n",
       "<table border=\"1\" class=\"dataframe\">\n",
       "  <thead>\n",
       "    <tr style=\"text-align: right;\">\n",
       "      <th></th>\n",
       "      <th>timestamp</th>\n",
       "      <th>tweet_text</th>\n",
       "      <th>username</th>\n",
       "      <th>all_hashtags</th>\n",
       "      <th>followers_count</th>\n",
       "      <th>retweets</th>\n",
       "      <th>favourites</th>\n",
       "    </tr>\n",
       "  </thead>\n",
       "  <tbody>\n",
       "    <tr>\n",
       "      <th>0</th>\n",
       "      <td>2019-11-03 03:27:43</td>\n",
       "      <td>Who is better ? #Ronaldo #Messi #neymarjr #Mba...</td>\n",
       "      <td>CK2DRIPPY</td>\n",
       "      <td>[u'Ronaldo', u'Messi', u'neymarjr', u'Mbappe',...</td>\n",
       "      <td>2</td>\n",
       "      <td>NaN</td>\n",
       "      <td>NaN</td>\n",
       "    </tr>\n",
       "    <tr>\n",
       "      <th>1</th>\n",
       "      <td>2019-11-03 00:55:27</td>\n",
       "      <td>I can wait till Atletico Madrid beats Real so ...</td>\n",
       "      <td>Munnabhai999</td>\n",
       "      <td>[u'Hazard', u'Ronaldo', u'LaLiga']</td>\n",
       "      <td>44</td>\n",
       "      <td>NaN</td>\n",
       "      <td>NaN</td>\n",
       "    </tr>\n",
       "    <tr>\n",
       "      <th>2</th>\n",
       "      <td>2019-11-03 00:13:24</td>\n",
       "      <td>The man is a physical resemblance of Sir Alex'...</td>\n",
       "      <td>ZiiTwitch</td>\n",
       "      <td>[u'MUFC', u'ronaldo']</td>\n",
       "      <td>248</td>\n",
       "      <td>NaN</td>\n",
       "      <td>NaN</td>\n",
       "    </tr>\n",
       "    <tr>\n",
       "      <th>3</th>\n",
       "      <td>2019-11-02 23:30:03</td>\n",
       "      <td>Lukaku equals #Ronaldo goalscoring record as M...</td>\n",
       "      <td>prazz_arie</td>\n",
       "      <td>[u'Ronaldo', u'juventus', u'footballnews']</td>\n",
       "      <td>220</td>\n",
       "      <td>NaN</td>\n",
       "      <td>NaN</td>\n",
       "    </tr>\n",
       "    <tr>\n",
       "      <th>4</th>\n",
       "      <td>2019-11-02 23:03:55</td>\n",
       "      <td>Juventus goldenboy #Deligt scores his 1st Juve...</td>\n",
       "      <td>followalexcam</td>\n",
       "      <td>[u'Deligt', u'DerbyDellaMole', u'ForzaJuve', u...</td>\n",
       "      <td>1797</td>\n",
       "      <td>NaN</td>\n",
       "      <td>NaN</td>\n",
       "    </tr>\n",
       "  </tbody>\n",
       "</table>\n",
       "</div>"
      ],
      "text/plain": [
       "             timestamp                                         tweet_text  \\\n",
       "0  2019-11-03 03:27:43  Who is better ? #Ronaldo #Messi #neymarjr #Mba...   \n",
       "1  2019-11-03 00:55:27  I can wait till Atletico Madrid beats Real so ...   \n",
       "2  2019-11-03 00:13:24  The man is a physical resemblance of Sir Alex'...   \n",
       "3  2019-11-02 23:30:03  Lukaku equals #Ronaldo goalscoring record as M...   \n",
       "4  2019-11-02 23:03:55  Juventus goldenboy #Deligt scores his 1st Juve...   \n",
       "\n",
       "        username                                       all_hashtags  \\\n",
       "0      CK2DRIPPY  [u'Ronaldo', u'Messi', u'neymarjr', u'Mbappe',...   \n",
       "1   Munnabhai999                 [u'Hazard', u'Ronaldo', u'LaLiga']   \n",
       "2      ZiiTwitch                              [u'MUFC', u'ronaldo']   \n",
       "3     prazz_arie         [u'Ronaldo', u'juventus', u'footballnews']   \n",
       "4  followalexcam  [u'Deligt', u'DerbyDellaMole', u'ForzaJuve', u...   \n",
       "\n",
       "   followers_count  retweets  favourites  \n",
       "0                2       NaN         NaN  \n",
       "1               44       NaN         NaN  \n",
       "2              248       NaN         NaN  \n",
       "3              220       NaN         NaN  \n",
       "4             1797       NaN         NaN  "
      ]
     },
     "execution_count": 62,
     "metadata": {},
     "output_type": "execute_result"
    }
   ],
   "source": [
    "data.head()"
   ]
  },
  {
   "cell_type": "code",
   "execution_count": 63,
   "metadata": {},
   "outputs": [],
   "source": [
    "articles, labels = np.array(data['tweet_text']), np.array(data['followers_count'])"
   ]
  },
  {
   "cell_type": "code",
   "execution_count": 64,
   "metadata": {},
   "outputs": [],
   "source": [
    "from sklearn.model_selection import train_test_split\n",
    "\n",
    "train_articles, test_articles, train_labels, test_labels = train_test_split(articles, labels, random_state=100, test_size=0.9)"
   ]
  },
  {
   "cell_type": "code",
   "execution_count": null,
   "metadata": {},
   "outputs": [],
   "source": []
  },
  {
   "cell_type": "code",
   "execution_count": 65,
   "metadata": {},
   "outputs": [
    {
     "name": "stdout",
     "output_type": "stream",
     "text": [
      "('Train followers_count categories:', Counter({203: 2, 14: 2, 1344: 1, 2: 1, 5: 1, 167: 1, 92: 1, 1420: 1, 1005: 1, 10518: 1, 73: 1, 26: 1, 28: 1, 127: 1}))\n",
      "('Test  followers_count categories:', Counter({14: 13, 2: 7, 1797: 5, 1: 4, 12: 4, 0: 3, 39441: 3, 2069: 3, 1592: 3, 151: 3, 220: 3, 73: 3, 5: 2, 7: 2, 8: 2, 13: 2, 44: 2, 49: 2, 58: 2, 125: 2, 167: 2, 258: 2, 298: 2, 1344: 2, 56781: 2, 6: 1, 11: 1, 26: 1, 27: 1, 28: 1, 29: 1, 1566: 1, 545: 1, 34: 1, 35: 1, 39: 1, 1589: 1, 5686: 1, 576: 1, 41545: 1, 77: 1, 79: 1, 84: 1, 90: 1, 92: 1, 21597: 1, 85087: 1, 19040: 1, 99: 1, 104: 1, 617: 1, 109: 1, 121: 1, 127: 1, 1164: 1, 143: 1, 657: 1, 45716: 1, 150: 1, 154: 1, 670: 1, 160: 1, 161: 1, 675: 1, 684: 1, 174: 1, 5666: 1, 1234: 1, 9946: 1, 235: 1, 243: 1, 248: 1, 762: 1, 1277: 1, 260: 1, 265: 1, 268: 1, 786: 1, 831: 1, 6486: 1, 345: 1, 16753: 1, 2933: 1, 1398: 1, 891: 1, 1405: 1, 1918: 1, 383: 1, 15936: 1, 418: 1, 419: 1, 453: 1, 460: 1, 28121: 1, 1103: 1, 990: 1, 1523: 1}))\n"
     ]
    }
   ],
   "source": [
    "from collections import Counter\n",
    "\n",
    "print('Train followers_count categories:', Counter(train_labels))\n",
    "print('Test  followers_count categories:', Counter(test_labels))"
   ]
  },
  {
   "cell_type": "code",
   "execution_count": 66,
   "metadata": {},
   "outputs": [
    {
     "data": {
      "text/plain": [
       "14       15\n",
       "2         8\n",
       "1797      5\n",
       "12        4\n",
       "1         4\n",
       "73        4\n",
       "0         3\n",
       "151       3\n",
       "1592      3\n",
       "167       3\n",
       "2069      3\n",
       "39441     3\n",
       "5         3\n",
       "1344      3\n",
       "220       3\n",
       "26        2\n",
       "127       2\n",
       "44        2\n",
       "298       2\n",
       "49        2\n",
       "258       2\n",
       "92        2\n",
       "28        2\n",
       "58        2\n",
       "7         2\n",
       "125       2\n",
       "8         2\n",
       "203       2\n",
       "56781     2\n",
       "13        2\n",
       "         ..\n",
       "235       1\n",
       "1005      1\n",
       "675       1\n",
       "1523      1\n",
       "5666      1\n",
       "248       1\n",
       "161       1\n",
       "670       1\n",
       "90        1\n",
       "154       1\n",
       "1420      1\n",
       "762       1\n",
       "19040     1\n",
       "99        1\n",
       "104       1\n",
       "617       1\n",
       "109       1\n",
       "16753     1\n",
       "2933      1\n",
       "1398      1\n",
       "121       1\n",
       "243       1\n",
       "891       1\n",
       "1918      1\n",
       "1164      1\n",
       "143       1\n",
       "657       1\n",
       "45716     1\n",
       "150       1\n",
       "85087     1\n",
       "Name: followers_count, Length: 101, dtype: int64"
      ]
     },
     "execution_count": 66,
     "metadata": {},
     "output_type": "execute_result"
    }
   ],
   "source": [
    "data['followers_count'].value_counts()\n"
   ]
  },
  {
   "cell_type": "code",
   "execution_count": null,
   "metadata": {},
   "outputs": [],
   "source": []
  },
  {
   "cell_type": "code",
   "execution_count": 68,
   "metadata": {},
   "outputs": [],
   "source": [
    "max1 = data['followers_count'].max()"
   ]
  },
  {
   "cell_type": "code",
   "execution_count": 69,
   "metadata": {},
   "outputs": [
    {
     "name": "stdout",
     "output_type": "stream",
     "text": [
      "followers_count: 85087\n"
     ]
    }
   ],
   "source": [
    "print ('followers_count: ' + str(max1))"
   ]
  },
  {
   "cell_type": "code",
   "execution_count": null,
   "metadata": {},
   "outputs": [],
   "source": []
  },
  {
   "cell_type": "code",
   "execution_count": 70,
   "metadata": {},
   "outputs": [],
   "source": [
    "count1 = data['followers_count'].count()"
   ]
  },
  {
   "cell_type": "code",
   "execution_count": 71,
   "metadata": {},
   "outputs": [
    {
     "name": "stdout",
     "output_type": "stream",
     "text": [
      "Count of followers: 168\n"
     ]
    }
   ],
   "source": [
    "print ('Count of followers: ' + str(count1))"
   ]
  },
  {
   "cell_type": "code",
   "execution_count": 72,
   "metadata": {},
   "outputs": [],
   "source": [
    "median1 = data['followers_count'].median() \n",
    "std1 = data['followers_count'].std() \n",
    "var1 = data['followers_count'].var()  \n"
   ]
  },
  {
   "cell_type": "code",
   "execution_count": 73,
   "metadata": {},
   "outputs": [
    {
     "name": "stdout",
     "output_type": "stream",
     "text": [
      "Median followers: 157.0\n",
      "Std of followers: 11615.4648328\n",
      "Var of followers: 134919023.281\n"
     ]
    }
   ],
   "source": [
    "print ('Median followers: ' + str(median1))\n",
    "print ('Std of followers: ' + str(std1))\n",
    "print ('Var of followers: ' + str(var1))"
   ]
  },
  {
   "cell_type": "code",
   "execution_count": 74,
   "metadata": {},
   "outputs": [
    {
     "name": "stdout",
     "output_type": "stream",
     "text": [
      "               timestamp                                         tweet_text  \\\n",
      "0    2019-11-03 03:27:43  Who is better ? #Ronaldo #Messi #neymarjr #Mba...   \n",
      "1    2019-11-03 00:55:27  I can wait till Atletico Madrid beats Real so ...   \n",
      "2    2019-11-03 00:13:24  The man is a physical resemblance of Sir Alex'...   \n",
      "3    2019-11-02 23:30:03  Lukaku equals #Ronaldo goalscoring record as M...   \n",
      "4    2019-11-02 23:03:55  Juventus goldenboy #Deligt scores his 1st Juve...   \n",
      "5    2019-11-02 22:46:03  @OliviaP66 Who is better #Messi or #Ronaldo? F...   \n",
      "6    2019-11-02 22:45:10  @calientesports Who is better #Messi or #Ronal...   \n",
      "7    2019-11-02 22:44:00  @realoladele Who is better #Messi or #Ronaldo?...   \n",
      "8    2019-11-02 22:30:04  Gotta say, I have NO idea how #Izzo managed to...   \n",
      "9    2019-11-02 22:23:26  @SifisoNelson_ We most def do! Was just tellin...   \n",
      "10   2019-11-02 22:15:49           @zuma2007 #Ronaldo he is the best !! ☝️😜   \n",
      "11   2019-11-02 22:13:47  #TorinoJuve match summary:  ⚪️Poor as usual!  ...   \n",
      "12   2019-11-02 22:07:23  #Torino 0-1 #Juventus: De Ligt delights #Bianc...   \n",
      "13   2019-11-02 22:03:43  Matthijs de Ligt scored his first goal for Juv...   \n",
      "14   2019-11-02 21:46:35  FULL TIME | Torino 0⃣ - 1⃣ Juventus 🔚 De Ligt ...   \n",
      "15   2019-11-02 21:45:38  Lionel Messi: “Ronaldo is the greatest striker...   \n",
      "16   2019-11-02 21:41:01  Subscribe to my YouTube channel  Keano467 plea...   \n",
      "17   2019-11-02 21:30:52  Free-kick stats since CR7 joined Juve 👇  • Mes...   \n",
      "18   2019-11-02 21:29:25  How the hell is Foster not a walk out Bloody a...   \n",
      "19   2019-11-02 21:27:33  Cris DEFINITELY watched Rashfords free-kick in...   \n",
      "20   2019-11-02 21:27:15  Why does #ronaldo keep taking our free kicks? ...   \n",
      "21   2019-11-02 21:27:07  Cristiano Ronaldo Manchester United 2008 Champ...   \n",
      "22   2019-11-02 21:13:33     Ronaldo out? #Redcard #TorinoJuventus #Ronaldo   \n",
      "23   2019-11-02 21:05:52  Im work massage relaxing in dubai  Full servic...   \n",
      "24   2019-11-02 21:03:33  Im work massage relaxing in dubai  Full servic...   \n",
      "25   2019-11-02 20:28:32  We win games always  DM now for today's games ...   \n",
      "26   2019-11-02 20:16:22                     #Ronaldo tonight's your night!   \n",
      "27   2019-11-02 20:00:23  @ForzaJuve2017 what is use of buying TV rights...   \n",
      "28   2019-11-02 19:55:41  LIVE  [1u] Torino vs Juventus Over 2.25(-133) ...   \n",
      "29   2019-11-02 19:43:12  Rolle will sore tonight! #Ronaldo #ToroJuve #T...   \n",
      "..                   ...                                                ...   \n",
      "138  2019-11-01 18:22:43  @SebiSalazarFUT @ESPNFC @ESPNFC  #FCExtratime ...   \n",
      "139  2019-11-01 18:21:25  @ESPNFC #FCExtratime  How many goals would #Ro...   \n",
      "140  2019-11-01 18:00:31  Custom @Cristiano wallpaper. @selecaoportugal ...   \n",
      "141  2019-11-01 17:53:31  Lmao 😂... They did her dirty with the snap cha...   \n",
      "142  2019-11-01 17:50:41  Ronaldo sends entire Portugal U17 Women’s Nati...   \n",
      "143  2019-11-01 17:41:13  What did the man possibly do to him ?  #nanosc...   \n",
      "144  2019-11-01 17:39:39  @ESPNFC How many goals would #Ronaldo #CR7 act...   \n",
      "145  2019-11-01 17:38:20  #Cristiano #Ronaldo with family 😍 #CR7 #Juvent...   \n",
      "146  2019-11-01 17:36:43  Do you think what he did was right?  🤔 #nanosc...   \n",
      "147  2019-11-01 17:28:30  Im work massage relaxing in dubai  Full servic...   \n",
      "148  2019-11-01 17:28:25  Paulo Dybala talks about wearing the Juventus ...   \n",
      "149  2019-11-01 16:22:21  It's so ironic that Cristiano dressed as a clo...   \n",
      "150  2019-11-01 16:15:58  You’re a Ronaldo OG fan if you remember this p...   \n",
      "151  2019-11-01 15:57:13  Hi! I’m working massage in dubai , Please reac...   \n",
      "152  2019-11-01 15:55:15  Hi! I’m working massage in dubai , Please reac...   \n",
      "153  2019-11-01 15:54:01  Hi! I’m working massage in dubai , Please reac...   \n",
      "154  2019-11-01 15:27:07  Happy Birthday to the ever youthful Old Lady ⚫...   \n",
      "155  2019-11-01 15:04:35  Hi! I’m working massage in dubai , Please reac...   \n",
      "156  2019-11-01 15:03:00  🕯️ FOOTBALL RELIGION 🕯️ by @EmilioSansolini //...   \n",
      "157  2019-11-01 14:54:20  The Welsh legend unveils the tactics used by F...   \n",
      "158  2019-11-01 14:54:17  New video what is graphic design https://t.co/...   \n",
      "159  2019-11-01 14:07:55  I'm a #Ronaldo fan, But #Messi is better Na De...   \n",
      "160  2019-11-01 14:07:03  👏💥👏Juventus are the only unbeaten team left fr...   \n",
      "161  2019-11-01 14:02:37  Just seeing this. What is VAR for honestly? An...   \n",
      "162  2019-11-01 14:01:29  Juventus has CR7. We have RO19. Watch out for ...   \n",
      "163  2019-11-01 13:56:16  Happy #Halloween19  #Ronaldo #Messi #football ...   \n",
      "164  2019-11-01 13:44:19  #Onthisday in 2003, @Cristiano Ronaldo scored ...   \n",
      "165  2019-11-01 13:38:50  Introducing the ronaldojewelry bracelets of th...   \n",
      "166  2019-11-01 12:44:29  #Ronaldo + #Juventus + This Kits = 💯😍👌🔥 https:...   \n",
      "167  2019-11-01 12:26:22  Learning from the Legend 😍 #Rashford #Ronaldo ...   \n",
      "\n",
      "            username                                       all_hashtags  \\\n",
      "0          CK2DRIPPY  [u'Ronaldo', u'Messi', u'neymarjr', u'Mbappe',...   \n",
      "1       Munnabhai999                 [u'Hazard', u'Ronaldo', u'LaLiga']   \n",
      "2          ZiiTwitch                              [u'MUFC', u'ronaldo']   \n",
      "3         prazz_arie         [u'Ronaldo', u'juventus', u'footballnews']   \n",
      "4      followalexcam  [u'Deligt', u'DerbyDellaMole', u'ForzaJuve', u...   \n",
      "5      Stadiumstats1                             [u'Messi', u'Ronaldo']   \n",
      "6      Stadiumstats1                             [u'Messi', u'Ronaldo']   \n",
      "7      Stadiumstats1                             [u'Messi', u'Ronaldo']   \n",
      "8      JFCAlessandro    [u'Izzo', u'Ronaldo', u'Juventus', u'ToroJuve']   \n",
      "9      TheMissLouise                        [u'RealMadrid', u'Ronaldo']   \n",
      "10       PowerBaldax                                       [u'Ronaldo']   \n",
      "11     JuveAddiction  [u'TorinoJuve', u'Deligt', u'Bernardeschi', u'...   \n",
      "12     Footbal_Match  [u'Torino', u'Juventus', u'Bianconeri', u'firs...   \n",
      "13       Sportshere2  [u'deligt', u'torino', u'juventus', u'calcio',...   \n",
      "14       Sportshere2  [u'TorinoJuventus', u'torjuv', u'juventus', u'...   \n",
      "15      IconicShirts  [u'Ronaldo', u'Barcelona', u'Football', u'Clas...   \n",
      "16       AlanKeane12  [u'subscriber', u'yt', u'YouTube', u'famousfou...   \n",
      "17    adriandelmonte  [u'Juventus', u'Ronaldo', u'Barcelona', u'Messi']   \n",
      "18     FaithProspect  [u'chelsea', u'chelseafc', u'cfc', u'ligue1', ...   \n",
      "19    Cristiano_2019                              [u'Juve', u'Ronaldo']   \n",
      "20    3alialmaghribi                                       [u'ronaldo']   \n",
      "21      IconicShirts  [u'Ronaldo', u'CR7', u'CLFinal', u'ChampionsLe...   \n",
      "22       JormaParoIa        [u'Redcard', u'TorinoJuventus', u'Ronaldo']   \n",
      "23    Cherry13342222  [u'SaudiArabia', u'saudi', u'ksa', u'ksa_sport...   \n",
      "24      Hana30186634  [u'SaudiArabia', u'saudi', u'ksa', u'ksa_sport...   \n",
      "25   andrewsfixedbet  [u'leomessi', u'liomessi', u'messi', u'uefa', ...   \n",
      "26   nicklikeredbull                                       [u'Ronaldo']   \n",
      "27     shinde_tanvay                          [u'Juventus', u'Ronaldo']   \n",
      "28         NoTipster  [u'GamblingTwitter', u'FreePicks', u'freetips'...   \n",
      "29       JormaParoIa  [u'Ronaldo', u'ToroJuve', u'TorinoJuve', u'Fin...   \n",
      "..               ...                                                ...   \n",
      "138          BorjonD               [u'FCExtratime', u'Ronaldo', u'CR7']   \n",
      "139          BorjonD               [u'FCExtratime', u'Ronaldo', u'CR7']   \n",
      "140   Cristiano_2019                               [u'CR7', u'Ronaldo']   \n",
      "141     nanoscrollng  [u'nanoscroll', u'theshaderoom', u'bellanaija'...   \n",
      "142  footyanalytics3                                       [u'Ronaldo']   \n",
      "143     nanoscrollng  [u'nanoscroll', u'theshaderoom', u'bellanaija'...   \n",
      "144          BorjonD                               [u'Ronaldo', u'CR7']   \n",
      "145    Footbal_Match    [u'Cristiano', u'Ronaldo', u'CR7', u'Juventus']   \n",
      "146     nanoscrollng  [u'nanoscroll', u'theshaderoom', u'bellanaija'...   \n",
      "147     lily04182648  [u'SaudiArabia', u'saudi', u'ksa', u'ksa_sport...   \n",
      "148    followalexcam  [u'LaJoya', u'ADP10', u'Juve122', u'forzajuve'...   \n",
      "149     TareqYounis6  [u'halloween2019', u'CR7', u'cristiano', u'Fri...   \n",
      "150   stromaemaestro                               [u'cr7', u'Ronaldo']   \n",
      "151  DubaiCa80077458  [u'Albarsha', u'marina', u'downtown', u'jumeir...   \n",
      "152  DubaiCa00627457  [u'Albarsha', u'marina', u'downtown', u'jumeir...   \n",
      "153  DubaiCa35935973  [u'Albarsha', u'marina', u'downtown', u'jumeir...   \n",
      "154    followalexcam  [u'juventus', u'juve', u'Juve122', u'forzajuve...   \n",
      "155    Elisa60032221  [u'Albarsha', u'marina', u'downtown', u'jumeir...   \n",
      "156       Forza27_RS               [u'Maradona', u'Cruyff', u'Ronaldo']   \n",
      "157  SportsIndiaShow  [u'Giggs', u'Ronaldo', u'CR7', u'TheCoachesVoi...   \n",
      "158   dailygraphics2  [u'graphicdesign', u'design', u'logodesign', u...   \n",
      "159       Horlavelli                 [u'Ronaldo', u'Messi', u'RedFlag']   \n",
      "160      fff_project  [u'fff_project', u'football', u'Juventus', u'R...   \n",
      "161      MGPaulKelly                                       [u'Ronaldo']   \n",
      "162           EBRPFC                                       [u'Ronaldo']   \n",
      "163      deeeepthink  [u'Halloween19', u'Ronaldo', u'Messi', u'footb...   \n",
      "164      sportverifd  [u'Onthisday', u'Ronaldo', u'manu', u'epl', u'...   \n",
      "165   WolfBaySeafood                           [u'Ronaldo', u'wolfbay']   \n",
      "166     JagadeeshAfc                          [u'Ronaldo', u'Juventus']   \n",
      "167      FootTheBall                          [u'Rashford', u'Ronaldo']   \n",
      "\n",
      "     followers_count  retweets  favourites  \n",
      "0                  2       NaN         NaN  \n",
      "1                 44       NaN         NaN  \n",
      "2                248       NaN         NaN  \n",
      "3                220       NaN         NaN  \n",
      "4               1797       NaN         NaN  \n",
      "5                  2       NaN         NaN  \n",
      "6                  2       NaN         NaN  \n",
      "7                  2       NaN         NaN  \n",
      "8                127       NaN         NaN  \n",
      "9               1523       NaN         NaN  \n",
      "10               657       NaN         NaN  \n",
      "11               265       NaN         NaN  \n",
      "12                73       NaN         NaN  \n",
      "13                28       NaN         NaN  \n",
      "14                28       NaN         NaN  \n",
      "15                49       NaN         NaN  \n",
      "16                 0       NaN         NaN  \n",
      "17             16753       NaN         NaN  \n",
      "18                 0       NaN         NaN  \n",
      "19               125       NaN         NaN  \n",
      "20                12       NaN         NaN  \n",
      "21                49       NaN         NaN  \n",
      "22                58       NaN         NaN  \n",
      "23                 1       NaN         NaN  \n",
      "24                 5       NaN         NaN  \n",
      "25               258       NaN         NaN  \n",
      "26               268       NaN         NaN  \n",
      "27                 6       NaN         NaN  \n",
      "28               260       NaN         NaN  \n",
      "29                58       NaN         NaN  \n",
      "..               ...       ...         ...  \n",
      "138              167       NaN         NaN  \n",
      "139              167       NaN         NaN  \n",
      "140              125       NaN         NaN  \n",
      "141             1344       NaN         NaN  \n",
      "142             2933       NaN         NaN  \n",
      "143             1344       NaN         NaN  \n",
      "144              167       NaN         NaN  \n",
      "145               73       NaN         NaN  \n",
      "146             1344       NaN         NaN  \n",
      "147               12       NaN         NaN  \n",
      "148             1797       NaN         NaN  \n",
      "149               34       NaN         NaN  \n",
      "150               27       NaN         NaN  \n",
      "151               29       NaN         NaN  \n",
      "152               77       NaN         NaN  \n",
      "153              121       NaN         NaN  \n",
      "154             1797       NaN         NaN  \n",
      "155                2       NaN         NaN  \n",
      "156             5666       NaN         NaN  \n",
      "157             1566       NaN         NaN  \n",
      "158                7       NaN         NaN  \n",
      "159              383       NaN         NaN  \n",
      "160                2       NaN         NaN  \n",
      "161              243       NaN         NaN  \n",
      "162             5686       NaN         NaN  \n",
      "163                5       NaN         NaN  \n",
      "164              298       NaN         NaN  \n",
      "165             1405       NaN         NaN  \n",
      "166            10518       NaN         NaN  \n",
      "167            41545       NaN         NaN  \n",
      "\n",
      "[168 rows x 7 columns]\n"
     ]
    }
   ],
   "source": [
    "print(data)"
   ]
  },
  {
   "cell_type": "markdown",
   "metadata": {},
   "source": [
    "data.[data.followers_count > 100]"
   ]
  },
  {
   "cell_type": "code",
   "execution_count": null,
   "metadata": {},
   "outputs": [],
   "source": []
  },
  {
   "cell_type": "code",
   "execution_count": null,
   "metadata": {},
   "outputs": [],
   "source": []
  },
  {
   "cell_type": "code",
   "execution_count": null,
   "metadata": {},
   "outputs": [],
   "source": []
  },
  {
   "cell_type": "code",
   "execution_count": 75,
   "metadata": {},
   "outputs": [
    {
     "name": "stdout",
     "output_type": "stream",
     "text": [
      "               timestamp                                         tweet_text  \\\n",
      "4    2019-11-02 23:03:55  Juventus goldenboy #Deligt scores his 1st Juve...   \n",
      "9    2019-11-02 22:23:26  @SifisoNelson_ We most def do! Was just tellin...   \n",
      "17   2019-11-02 21:30:52  Free-kick stats since CR7 joined Juve 👇  • Mes...   \n",
      "33   2019-11-02 18:45:26  8 - Romelu #Lukaku is the first Inter player t...   \n",
      "44   2019-11-02 17:00:00  Lionel Messi isn't a monster in the gym like C...   \n",
      "45   2019-11-02 16:55:48  #Messi fanboys after Levante humiliated Lionel...   \n",
      "51   2019-11-02 15:40:28   Nugget: \"That's Jimmy, he's a bad guy!\" #Ronaldo   \n",
      "54   2019-11-02 15:12:44  #Ronaldo’s Mother Reveals People Who ROBBED He...   \n",
      "55   2019-11-02 15:12:41  I've just posted a new blog: #Ronaldo’s Mother...   \n",
      "56   2019-11-02 15:12:39  #Ronaldo’s Mother Reveals People Who ROBBED He...   \n",
      "58   2019-11-02 15:00:00  Lionel Messi isn't a monster in the gym like C...   \n",
      "62   2019-11-02 14:17:33  FIFA 20 vs PES 2020 Players RATING Comparison ...   \n",
      "75   2019-11-02 13:42:04  Lionel Messi isn't a monster in the gym like C...   \n",
      "76   2019-11-02 13:34:58  Possible Juventus special shirt celebrating Ad...   \n",
      "82   2019-11-02 12:51:37  How are people praising a statement like that?...   \n",
      "99   2019-11-02 09:36:54  #Dolores #Aveiro, #Cristiano #Ronaldo's mother...   \n",
      "102  2019-11-02 08:49:13  Michael Owen was the last English #BallondOr w...   \n",
      "105  2019-11-02 07:50:18  Tevez explains why #Ronaldo and #Messi are wor...   \n",
      "108  2019-11-02 05:49:56  Best Front 3 of EPL history and probably one o...   \n",
      "109  2019-11-02 05:35:05  These are HUGE CLAIMS from @Cristiano's mother...   \n",
      "113  2019-11-02 03:04:24  Okay, Let's Settle it Once for all 👇  Mega Pol...   \n",
      "114  2019-11-02 02:47:40  A superstar of the sport, this player has play...   \n",
      "115  2019-11-02 01:51:06  In Stock Now Nike #WorldCup Pack Just Do It ! ...   \n",
      "118  2019-11-01 23:16:24  We might spend a whole night debating, how man...   \n",
      "120  2019-11-01 21:38:34  Marcus Rashford scores an absolute screamer fr...   \n",
      "121  2019-11-01 21:36:01  Marcus Rashford scores an absolute screamer fr...   \n",
      "142  2019-11-01 17:50:41  Ronaldo sends entire Portugal U17 Women’s Nati...   \n",
      "148  2019-11-01 17:28:25  Paulo Dybala talks about wearing the Juventus ...   \n",
      "154  2019-11-01 15:27:07  Happy Birthday to the ever youthful Old Lady ⚫...   \n",
      "156  2019-11-01 15:03:00  🕯️ FOOTBALL RELIGION 🕯️ by @EmilioSansolini //...   \n",
      "157  2019-11-01 14:54:20  The Welsh legend unveils the tactics used by F...   \n",
      "162  2019-11-01 14:01:29  Juventus has CR7. We have RO19. Watch out for ...   \n",
      "166  2019-11-01 12:44:29  #Ronaldo + #Juventus + This Kits = 💯😍👌🔥 https:...   \n",
      "167  2019-11-01 12:26:22  Learning from the Legend 😍 #Rashford #Ronaldo ...   \n",
      "\n",
      "            username                                       all_hashtags  \\\n",
      "4      followalexcam  [u'Deligt', u'DerbyDellaMole', u'ForzaJuve', u...   \n",
      "9      TheMissLouise                        [u'RealMadrid', u'Ronaldo']   \n",
      "17    adriandelmonte  [u'Juventus', u'Ronaldo', u'Barcelona', u'Messi']   \n",
      "33         OptaPaolo           [u'Lukaku', u'Ronaldo', u'BolognaInter']   \n",
      "44   DailyStar_Sport                             [u'Messi', u'Ronaldo']   \n",
      "45     followalexcam  [u'Messi', u'BallonDor', u'BallonDor2019', u'L...   \n",
      "51     ThreeSmarties                                       [u'Ronaldo']   \n",
      "54          kikigist                                       [u'Ronaldo']   \n",
      "55          kikigist                                       [u'Ronaldo']   \n",
      "56          kikigist                                       [u'Ronaldo']   \n",
      "58   DailyStar_Sport                             [u'Messi', u'Ronaldo']   \n",
      "62            ZAN0MG  [u'FIFA20', u'PES2020', u'fcbarcelona', u'Real...   \n",
      "75   DailyStar_Sport                             [u'Messi', u'Ronaldo']   \n",
      "76     followalexcam  [u'Juve122', u'forzajuve', u'TorinoJuventus', ...   \n",
      "82          Laus1507                                       [u'Ronaldo']   \n",
      "99         365Scores  [u'Dolores', u'Aveiro', u'Cristiano', u'Ronald...   \n",
      "102  jasonpettigrove                         [u'BallondOr', u'Ronaldo']   \n",
      "105   ETribuneSports                             [u'Ronaldo', u'Messi']   \n",
      "108        UnitedNMB         [u'Rooney', u'Ronaldo', u'Tevez', u'MUFC']   \n",
      "109    FOXSportsAsia                         [u'Ronaldo', u'BallondOr']   \n",
      "113     I_m_Vedhalam  [u'ThalapathyVijay', u'Messi', u'Ronaldo', u'V...   \n",
      "114    FOXSportsAsia      [u'Ronaldo', u'Messi', u'MUFC', u'Argentina']   \n",
      "115     sportsultima  [u'WorldCup', u'JUSTDOIT', u'NIKEFOOTBALL', u'...   \n",
      "118          kmleski  [u'Messi', u'Ronaldo', u'Modri\\u0107', u'Inies...   \n",
      "120    sportingtouch  [u'ronaldo', u'rashford', u'freekick', u'manutd']   \n",
      "121    sportingtouch  [u'ronaldo', u'rashford', u'freekick', u'manutd']   \n",
      "142  footyanalytics3                                       [u'Ronaldo']   \n",
      "148    followalexcam  [u'LaJoya', u'ADP10', u'Juve122', u'forzajuve'...   \n",
      "154    followalexcam  [u'juventus', u'juve', u'Juve122', u'forzajuve...   \n",
      "156       Forza27_RS               [u'Maradona', u'Cruyff', u'Ronaldo']   \n",
      "157  SportsIndiaShow  [u'Giggs', u'Ronaldo', u'CR7', u'TheCoachesVoi...   \n",
      "162           EBRPFC                                       [u'Ronaldo']   \n",
      "166     JagadeeshAfc                          [u'Ronaldo', u'Juventus']   \n",
      "167      FootTheBall                          [u'Rashford', u'Ronaldo']   \n",
      "\n",
      "     followers_count  retweets  favourites  \n",
      "4               1797       NaN         NaN  \n",
      "9               1523       NaN         NaN  \n",
      "17             16753       NaN         NaN  \n",
      "33             85087       NaN         NaN  \n",
      "44             39441       NaN         NaN  \n",
      "45              1797       NaN         NaN  \n",
      "51              1918       NaN         NaN  \n",
      "54              2069       NaN         NaN  \n",
      "55              2069       NaN         NaN  \n",
      "56              2069       NaN         NaN  \n",
      "58             39441       NaN         NaN  \n",
      "62              1592       NaN         NaN  \n",
      "75             39441       NaN         NaN  \n",
      "76              1797       NaN         NaN  \n",
      "82              6486       NaN         NaN  \n",
      "99             15936       NaN         NaN  \n",
      "102            21597       NaN         NaN  \n",
      "105            28121       NaN         NaN  \n",
      "108             1589       NaN         NaN  \n",
      "109            56781       NaN         NaN  \n",
      "113            19040       NaN         NaN  \n",
      "114            56781       NaN         NaN  \n",
      "115            45716       NaN         NaN  \n",
      "118             9946       NaN         NaN  \n",
      "120             1592       NaN         NaN  \n",
      "121             1592       NaN         NaN  \n",
      "142             2933       NaN         NaN  \n",
      "148             1797       NaN         NaN  \n",
      "154             1797       NaN         NaN  \n",
      "156             5666       NaN         NaN  \n",
      "157             1566       NaN         NaN  \n",
      "162             5686       NaN         NaN  \n",
      "166            10518       NaN         NaN  \n",
      "167            41545       NaN         NaN  \n"
     ]
    }
   ],
   "source": [
    "result = data[data['followers_count'] > 1500] \n",
    "print(result)\n",
    "\n"
   ]
  },
  {
   "cell_type": "code",
   "execution_count": null,
   "metadata": {},
   "outputs": [],
   "source": []
  },
  {
   "cell_type": "code",
   "execution_count": 76,
   "metadata": {},
   "outputs": [
    {
     "data": {
      "text/plain": [
       "'Juventus goldenboy #Deligt scores his 1st Juve goal AND it was in the #DerbyDellaMole v Turin city rivals Torino \\xf0\\x9f\\x92\\xa5\\xe2\\x9a\\xbd Bravo Matthijs\\xf0\\x9f\\x91\\x8d\\xf0\\x9f\\x8f\\xbc #ForzaJuve \\xe2\\x9a\\xab\\xe2\\x9a\\xaa #TorinoJuventus #TorinoJuve #FinoAllaFine #Juve122 #dybala #cristianoronaldo #Ronaldo   **Cr: original artwork @PeppeDesign \\xf0\\x9f\\x91\\x8f\\xf0\\x9f\\x8f\\xbc https://t.co/N5lbyoAJkC'"
      ]
     },
     "execution_count": 76,
     "metadata": {},
     "output_type": "execute_result"
    }
   ],
   "source": [
    "data.iloc[4]['tweet_text']"
   ]
  },
  {
   "cell_type": "code",
   "execution_count": 78,
   "metadata": {},
   "outputs": [
    {
     "data": {
      "text/plain": [
       "'@SifisoNelson_ We most def do! Was just tellin my mom &amp; bro that he\\xe2\\x80\\x99s irreplaceable in the #RealMadrid team!  Zidane\\xe2\\x80\\x99s return wasnt even the solution! Until we get a clinical finisher like Mbappe, we really may never get it right!  Zizou w|out #Ronaldo is like havin a bull w|out the rider! \\xf0\\x9f\\xa4\\xa6\\xf0\\x9f\\x8f\\xbd\\xe2\\x80\\x8d\\xe2\\x99\\x80\\xef\\xb8\\x8f\\xf0\\x9f\\xa4\\xa6\\xf0\\x9f\\x8f\\xbd\\xe2\\x80\\x8d\\xe2\\x99\\x80\\xef\\xb8\\x8f'"
      ]
     },
     "execution_count": 78,
     "metadata": {},
     "output_type": "execute_result"
    }
   ],
   "source": [
    "data.iloc[9]['tweet_text']"
   ]
  },
  {
   "cell_type": "code",
   "execution_count": null,
   "metadata": {},
   "outputs": [],
   "source": []
  }
 ],
 "metadata": {
  "kernelspec": {
   "display_name": "Python 3",
   "language": "python",
   "name": "python3"
  },
  "language_info": {
   "codemirror_mode": {
    "name": "ipython",
    "version": 3
   },
   "file_extension": ".py",
   "mimetype": "text/x-python",
   "name": "python",
   "nbconvert_exporter": "python",
   "pygments_lexer": "ipython3",
   "version": "3.7.3"
  }
 },
 "nbformat": 4,
 "nbformat_minor": 2
}
